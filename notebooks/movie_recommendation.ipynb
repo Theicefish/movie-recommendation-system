{
 "cells": [
  {
   "cell_type": "code",
   "execution_count": 1,
   "id": "b7da228e-9221-487c-bc54-57fa300194c6",
   "metadata": {},
   "outputs": [
    {
     "name": "stdout",
     "output_type": "stream",
     "text": [
      "评分文件 (ratings.csv) 已生成。\n",
      "电影文件 (movies.csv) 已生成。\n",
      "用户文件 (users.csv) 已生成。\n",
      "\n",
      "所有文件转换完成！\n"
     ]
    }
   ],
   "source": [
    "import pandas as pd\n",
    "\n",
    "# 定义数据文件路径（请根据你的实际情况修改路径）\n",
    "base_path = \"C:/Users/31579/Downloads/archive/ml-100k/\"  # 假设数据集文件解压在当前目录下的ml-100k文件夹中\n",
    "\n",
    "# 1. 转换评分数据 (u.data)\n",
    "# u.data文件包含用户ID、电影ID、评分和时间戳:cite[10]，列之间通常用制表符分隔:cite[7]\n",
    "ratings_columns = ['user_id', 'movie_id', 'rating', 'timestamp']\n",
    "ratings = pd.read_csv(base_path + 'u.data', sep='\\t', names=ratings_columns, engine='python')\n",
    "ratings.to_csv(base_path + 'ratings.csv', index=False)\n",
    "print(\"评分文件 (ratings.csv) 已生成。\")\n",
    "\n",
    "# 2. 转换电影数据 (u.item)\n",
    "# u.item文件包含电影ID、标题、上映日期和流派等信息:cite[10]，列之间用'|'分隔:cite[7]\n",
    "# 电影数据包含很多列，这里我们只读取前几列并命名，同时为流派列创建列名\n",
    "movie_columns = ['movie_id', 'title', 'release_date', 'video_release_date', 'imdb_url']\n",
    "# 根据数据集说明，后面还有19个流派列:cite[10]\n",
    "genres = [\"unknown\", \"Action\", \"Adventure\", \"Animation\", \"Children's\", \"Comedy\", \"Crime\", \"Documentary\", \n",
    "          \"Drama\", \"Fantasy\", \"Film-Noir\", \"Horror\", \"Musical\", \"Mystery\", \"Romance\", \"Sci-Fi\", \n",
    "          \"Thriller\", \"War\", \"Western\"]\n",
    "all_movie_columns = movie_columns + genres\n",
    "movies = pd.read_csv(base_path + 'u.item', sep='|', names=all_movie_columns, encoding='latin-1', engine='python')\n",
    "movies.to_csv(base_path + 'movies.csv', index=False)\n",
    "print(\"电影文件 (movies.csv) 已生成。\")\n",
    "\n",
    "# 3. 转换用户数据 (u.user)\n",
    "# u.user文件包含用户ID、年龄、性别、职业和邮编:cite[10]，列之间用'|'分隔\n",
    "users_columns = ['user_id', 'age', 'gender', 'occupation', 'zip_code']\n",
    "users = pd.read_csv(base_path + 'u.user', sep='|', names=users_columns, engine='python')\n",
    "users.to_csv(base_path + 'users.csv', index=False)\n",
    "print(\"用户文件 (users.csv) 已生成。\")\n",
    "\n",
    "print(\"\\n所有文件转换完成！\")"
   ]
  },
  {
   "cell_type": "code",
   "execution_count": 2,
   "id": "e0da5e17-2ebb-439a-9c1b-41e42308b6fc",
   "metadata": {
    "scrolled": true
   },
   "outputs": [
    {
     "name": "stdout",
     "output_type": "stream",
     "text": [
      "电影数据：\n",
      "   movie_id              title release_date  video_release_date  \\\n",
      "0         1   Toy Story (1995)  01-Jan-1995                 NaN   \n",
      "1         2   GoldenEye (1995)  01-Jan-1995                 NaN   \n",
      "2         3  Four Rooms (1995)  01-Jan-1995                 NaN   \n",
      "3         4  Get Shorty (1995)  01-Jan-1995                 NaN   \n",
      "4         5     Copycat (1995)  01-Jan-1995                 NaN   \n",
      "\n",
      "                                            imdb_url  unknown  Action  \\\n",
      "0  http://us.imdb.com/M/title-exact?Toy%20Story%2...        0       0   \n",
      "1  http://us.imdb.com/M/title-exact?GoldenEye%20(...        0       1   \n",
      "2  http://us.imdb.com/M/title-exact?Four%20Rooms%...        0       0   \n",
      "3  http://us.imdb.com/M/title-exact?Get%20Shorty%...        0       1   \n",
      "4  http://us.imdb.com/M/title-exact?Copycat%20(1995)        0       0   \n",
      "\n",
      "   Adventure  Animation  Children's  ...  Fantasy  Film-Noir  Horror  Musical  \\\n",
      "0          0          1           1  ...        0          0       0        0   \n",
      "1          1          0           0  ...        0          0       0        0   \n",
      "2          0          0           0  ...        0          0       0        0   \n",
      "3          0          0           0  ...        0          0       0        0   \n",
      "4          0          0           0  ...        0          0       0        0   \n",
      "\n",
      "   Mystery  Romance  Sci-Fi  Thriller  War  Western  \n",
      "0        0        0       0         0    0        0  \n",
      "1        0        0       0         1    0        0  \n",
      "2        0        0       0         1    0        0  \n",
      "3        0        0       0         0    0        0  \n",
      "4        0        0       0         1    0        0  \n",
      "\n",
      "[5 rows x 24 columns]\n",
      "\n",
      "评分数据：\n",
      "   user_id  movie_id  rating  timestamp\n",
      "0      196       242       3  881250949\n",
      "1      186       302       3  891717742\n",
      "2       22       377       1  878887116\n",
      "3      244        51       2  880606923\n",
      "4      166       346       1  886397596\n"
     ]
    }
   ],
   "source": [
    "# 导入必要的库\n",
    "import pandas as pd\n",
    "import numpy as np\n",
    "from sklearn.metrics.pairwise import cosine_similarity\n",
    "\n",
    "# 加载数据\n",
    "movies = pd.read_csv('C:/Users/31579/Downloads/archive/ml-100k/movies.csv') # 替换为你的实际文件路径\n",
    "ratings = pd.read_csv('C:/Users/31579/Downloads/archive/ml-100k/ratings.csv') # 替换为你的实际文件路径\n",
    "\n",
    "# 查看数据长什么样\n",
    "print(\"电影数据：\")\n",
    "print(movies.head()) # 显示前5行\n",
    "print(\"\\n评分数据：\")\n",
    "print(ratings.head())"
   ]
  },
  {
   "cell_type": "code",
   "execution_count": 3,
   "id": "969ae1fc-7f8d-4578-a51d-d4718d6c1f18",
   "metadata": {},
   "outputs": [
    {
     "name": "stdout",
     "output_type": "stream",
     "text": [
      "user_id      0\n",
      "movie_id     0\n",
      "rating       0\n",
      "timestamp    0\n",
      "dtype: int64\n",
      "评分矩阵的形状：(943, 1682)\n",
      "movie_id  1     2     3     4     5     6     7     8     9     10    ...  \\\n",
      "user_id                                                               ...   \n",
      "1          5.0   3.0   4.0   3.0   3.0   5.0   4.0   1.0   5.0   3.0  ...   \n",
      "2          4.0   0.0   0.0   0.0   0.0   0.0   0.0   0.0   0.0   2.0  ...   \n",
      "3          0.0   0.0   0.0   0.0   0.0   0.0   0.0   0.0   0.0   0.0  ...   \n",
      "4          0.0   0.0   0.0   0.0   0.0   0.0   0.0   0.0   0.0   0.0  ...   \n",
      "5          4.0   3.0   0.0   0.0   0.0   0.0   0.0   0.0   0.0   0.0  ...   \n",
      "\n",
      "movie_id  1673  1674  1675  1676  1677  1678  1679  1680  1681  1682  \n",
      "user_id                                                               \n",
      "1          0.0   0.0   0.0   0.0   0.0   0.0   0.0   0.0   0.0   0.0  \n",
      "2          0.0   0.0   0.0   0.0   0.0   0.0   0.0   0.0   0.0   0.0  \n",
      "3          0.0   0.0   0.0   0.0   0.0   0.0   0.0   0.0   0.0   0.0  \n",
      "4          0.0   0.0   0.0   0.0   0.0   0.0   0.0   0.0   0.0   0.0  \n",
      "5          0.0   0.0   0.0   0.0   0.0   0.0   0.0   0.0   0.0   0.0  \n",
      "\n",
      "[5 rows x 1682 columns]\n"
     ]
    }
   ],
   "source": [
    "# 检查缺失值\n",
    "print(ratings.isnull().sum())\n",
    "\n",
    "# 创建一个“用户-电影”评分矩阵\n",
    "# 这个矩阵的行是用户，列是电影，值是评分\n",
    "ratings_matrix = ratings.pivot_table(index='user_id', columns='movie_id', values='rating')\n",
    "\n",
    "# 查看矩阵形状\n",
    "print(f\"评分矩阵的形状：{ratings_matrix.shape}\")\n",
    "\n",
    "# 用0填充缺失值（因为协同过滤计算需要数值）\n",
    "ratings_matrix.fillna(0, inplace=True)\n",
    "\n",
    "# 再次查看填充后的矩阵\n",
    "print(ratings_matrix.head())"
   ]
  },
  {
   "cell_type": "code",
   "execution_count": 4,
   "id": "c927fdc7-072c-4528-bf11-1e9c360625e9",
   "metadata": {},
   "outputs": [
    {
     "name": "stdout",
     "output_type": "stream",
     "text": [
      "movie_id      1         2         3         4         5         6     \\\n",
      "movie_id                                                               \n",
      "1         1.000000  0.402382  0.330245  0.454938  0.286714  0.116344   \n",
      "2         0.402382  1.000000  0.273069  0.502571  0.318836  0.083563   \n",
      "3         0.330245  0.273069  1.000000  0.324866  0.212957  0.106722   \n",
      "4         0.454938  0.502571  0.324866  1.000000  0.334239  0.090308   \n",
      "5         0.286714  0.318836  0.212957  0.334239  1.000000  0.037299   \n",
      "\n",
      "movie_id      7         8         9         10    ...      1673  1674  \\\n",
      "movie_id                                          ...                   \n",
      "1         0.620979  0.481114  0.496288  0.273935  ...  0.035387   0.0   \n",
      "2         0.383403  0.337002  0.255252  0.171082  ...  0.000000   0.0   \n",
      "3         0.372921  0.200794  0.273669  0.158104  ...  0.000000   0.0   \n",
      "4         0.489283  0.490236  0.419044  0.252561  ...  0.000000   0.0   \n",
      "5         0.334769  0.259161  0.272448  0.055453  ...  0.000000   0.0   \n",
      "\n",
      "movie_id      1675      1676      1677  1678  1679  1680      1681      1682  \n",
      "movie_id                                                                      \n",
      "1         0.000000  0.000000  0.035387   0.0   0.0   0.0  0.047183  0.047183  \n",
      "2         0.000000  0.000000  0.000000   0.0   0.0   0.0  0.078299  0.078299  \n",
      "3         0.000000  0.000000  0.032292   0.0   0.0   0.0  0.000000  0.096875  \n",
      "4         0.094022  0.094022  0.037609   0.0   0.0   0.0  0.056413  0.075218  \n",
      "5         0.000000  0.000000  0.000000   0.0   0.0   0.0  0.000000  0.094211  \n",
      "\n",
      "[5 rows x 1682 columns]\n"
     ]
    }
   ],
   "source": [
    "# 计算电影之间的余弦相似度\n",
    "# 这步可能会花点时间，因为它要计算所有电影两两之间的相似度\n",
    "movie_similarity = cosine_similarity(ratings_matrix.T) # .T 表示对矩阵进行转置，让电影变成行\n",
    "\n",
    "# 将相似度矩阵转换为DataFrame，方便查看\n",
    "movie_similarity_df = pd.DataFrame(movie_similarity, index=ratings_matrix.columns, columns=ratings_matrix.columns)\n",
    "print(movie_similarity_df.head())"
   ]
  },
  {
   "cell_type": "code",
   "execution_count": 5,
   "id": "c7188d1c-c7e2-47da-95aa-5e6f1349ae4e",
   "metadata": {},
   "outputs": [
    {
     "name": "stdout",
     "output_type": "stream",
     "text": [
      "因为你喜欢《Forrest Gump (1994)》，所以我们为你推荐：\n",
      "                                 title\n",
      "68                 Forrest Gump (1994)\n",
      "422  E.T. the Extra-Terrestrial (1982)\n",
      "27                    Apollo 13 (1995)\n",
      "173     Raiders of the Lost Ark (1981)\n",
      "96           Dances with Wolves (1990)\n",
      "203          Back to the Future (1985)\n",
      "195          Dead Poets Society (1989)\n",
      "21                   Braveheart (1995)\n",
      "97    Silence of the Lambs, The (1991)\n",
      "201               Groundhog Day (1993)\n"
     ]
    }
   ],
   "source": [
    "def get_similar_movies(movie_name, min_ratings=10):\n",
    "    # 通过电影名找到它的ID\n",
    "    movie_id = movies[movies['title'] == movie_name]['movie_id'].values[0]\n",
    "\n",
    "    # 从相似度矩阵中获取该电影与其他所有电影的相似度分数\n",
    "    similarity_scores = movie_similarity_df[movie_id]\n",
    "\n",
    "    # 将这些分数与原始电影数据合并，方便看到电影名\n",
    "    similar_movies = pd.DataFrame({\n",
    "        'movie_id': similarity_scores.index,\n",
    "        'similarity': similarity_scores.values\n",
    "    }).merge(movies, on='movie_id')\n",
    "\n",
    "    # 我们可以简单地按相似度分数从高到低排序，并返回前10个\n",
    "    return similar_movies.sort_values(by='similarity', ascending=False).head(10)\n",
    "\n",
    "# 输入你喜欢的电影，看看推荐结果！\n",
    "your_favorite_movie = \"Forrest Gump (1994)\" # 请确保电影名与数据集中的完全一致\n",
    "recommendations = get_similar_movies(your_favorite_movie)\n",
    "print(f\"因为你喜欢《{your_favorite_movie}》，所以我们为你推荐：\")\n",
    "print(recommendations[['title']]) # 只打印电影名和类型    "
   ]
  },
  {
   "cell_type": "code",
   "execution_count": 6,
   "id": "43c2e6a5-819a-44e9-8ab0-162cb2c851ac",
   "metadata": {},
   "outputs": [
    {
     "ename": "SyntaxError",
     "evalue": "invalid syntax (3737097518.py, line 1)",
     "output_type": "error",
     "traceback": [
      "\u001b[1;36m  Cell \u001b[1;32mIn[6], line 1\u001b[1;36m\u001b[0m\n\u001b[1;33m    streamlit run app.py\u001b[0m\n\u001b[1;37m              ^\u001b[0m\n\u001b[1;31mSyntaxError\u001b[0m\u001b[1;31m:\u001b[0m invalid syntax\n"
     ]
    }
   ],
   "source": [
    "streamlit run app.py"
   ]
  },
  {
   "cell_type": "code",
   "execution_count": null,
   "id": "f3e6c0bb-b39f-4f5f-a9b3-4e37dcd4546d",
   "metadata": {},
   "outputs": [],
   "source": []
  }
 ],
 "metadata": {
  "kernelspec": {
   "display_name": "Python 3 (ipykernel)",
   "language": "python",
   "name": "python3"
  },
  "language_info": {
   "codemirror_mode": {
    "name": "ipython",
    "version": 3
   },
   "file_extension": ".py",
   "mimetype": "text/x-python",
   "name": "python",
   "nbconvert_exporter": "python",
   "pygments_lexer": "ipython3",
   "version": "3.10.18"
  }
 },
 "nbformat": 4,
 "nbformat_minor": 5
}
